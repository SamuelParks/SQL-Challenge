{
 "cells": [
  {
   "cell_type": "code",
   "execution_count": 1,
   "metadata": {},
   "outputs": [],
   "source": [
    "#Dependencies\n",
    "\n",
    "import pandas as pd\n",
    "import psycopg2\n",
    "import numpy as np\n",
    "import matplotlib.pyplot as plt\n",
    "from matplotlib.ticker import StrMethodFormatter\n",
    "\n",
    "#This has been altered to protect the Postgres password.\n",
    "from Config import connection_string\n",
    "print (f\"{connection_string}\")\n",
    "conn = psycopg2.connect(f\"{connection_string}\")"
   ]
  },
  {
   "cell_type": "code",
   "execution_count": 2,
   "metadata": {},
   "outputs": [],
   "source": [
    "# This imports the data needed for the historgram on salaries\n",
    "\n",
    "imported_df1 = pd.read_sql(\"SELECT * FROM salaries\", conn)"
   ]
  },
  {
   "cell_type": "code",
   "execution_count": 3,
   "metadata": {},
   "outputs": [
    {
     "data": {
      "text/plain": [
       "Text(0.5, 1.0, 'Salary Histogram')"
      ]
     },
     "execution_count": 3,
     "metadata": {},
     "output_type": "execute_result"
    },
    {
     "data": {
      "text/plain": [
       "<Figure size 1440x720 with 0 Axes>"
      ]
     },
     "metadata": {},
     "output_type": "display_data"
    },
    {
     "data": {
      "image/png": "[encoded data removed]",
      "text/plain": [
       "<Figure size 432x288 with 1 Axes>"
      ]
     },
     "metadata": {
      "needs_background": "light"
     },
     "output_type": "display_data"
    }
   ],
   "source": [
    "# This creates the historgram on salaries\n",
    "\n",
    "fig=plt.figure(figsize=(20,10))\n",
    "imported_df1.hist(column='salary', bins=50)\n",
    "plt.xlabel(\"Salary Amount\",fontsize=15)\n",
    "plt.ylabel(\"Frequency\",fontsize=15)\n",
    "plt.title(\"Salary Histogram\",fontsize=15)"
   ]
  },
  {
   "cell_type": "code",
   "execution_count": 4,
   "metadata": {},
   "outputs": [],
   "source": [
    "# This imports the data needed for the bar chart on average salaries for each position\n",
    "\n",
    "imported_df2 = pd.read_sql(\"SELECT salaries.emp_no, salaries.salary, titles.title,  employees.first_name, employees.last_name, employees.sex, employees.hire_date FROM salaries JOIN employees ON salaries.emp_no = employees.emp_no JOIN titles ON employees.emp_title_id = titles.title_id\", conn)"
   ]
  },
  {
   "cell_type": "code",
   "execution_count": 5,
   "metadata": {},
   "outputs": [],
   "source": [
    "#Finding all the titles\n",
    "title_list = imported_df2['title'].unique()\n",
    "\n",
    "# Unpacking Title List\n",
    "\n",
    "d1,d2,d3,d4,d5,d6,d7=title_list"
   ]
  },
  {
   "cell_type": "code",
   "execution_count": 6,
   "metadata": {},
   "outputs": [],
   "source": [
    "#This creates a separate data frame with all the salaries for each position title\n",
    "\n",
    "d1_df = imported_df2.loc[imported_df2[\"title\"] == d1,:]\n",
    "d2_df = imported_df2.loc[imported_df2[\"title\"] == d2,:]\n",
    "d3_df = imported_df2.loc[imported_df2[\"title\"] == d3,:]\n",
    "d4_df = imported_df2.loc[imported_df2[\"title\"] == d4,:]\n",
    "d5_df = imported_df2.loc[imported_df2[\"title\"] == d5,:]\n",
    "d6_df = imported_df2.loc[imported_df2[\"title\"] == d6,:]\n",
    "d7_df = imported_df2.loc[imported_df2[\"title\"] == d7,:]"
   ]
  },
  {
   "cell_type": "code",
   "execution_count": 7,
   "metadata": {},
   "outputs": [],
   "source": [
    "#This find the average of the salaries in each position title's dataframe\n",
    "\n",
    "d1_ave_sal = d1_df[\"salary\"].mean()\n",
    "d2_ave_sal = d2_df[\"salary\"].mean()\n",
    "d3_ave_sal = d3_df[\"salary\"].mean()\n",
    "d4_ave_sal = d4_df[\"salary\"].mean()\n",
    "d5_ave_sal = d5_df[\"salary\"].mean()\n",
    "d6_ave_sal = d6_df[\"salary\"].mean()\n",
    "d7_ave_sal = d7_df[\"salary\"].mean()"
   ]
  },
  {
   "cell_type": "code",
   "execution_count": 8,
   "metadata": {},
   "outputs": [
    {
     "data": {
      "image/png": "[encoded data removed]",
      "text/plain": [
       "<Figure size 1008x360 with 1 Axes>"
      ]
     },
     "metadata": {
      "needs_background": "light"
     },
     "output_type": "display_data"
    }
   ],
   "source": [
    "# This creates the bar chart on average salaries for each position\n",
    "\n",
    "plt.figure(figsize=(14, 5))\n",
    "\n",
    "x = title_list\n",
    "y = [d1_ave_sal, d2_ave_sal, d3_ave_sal, d4_ave_sal, d5_ave_sal, d6_ave_sal, d7_ave_sal]\n",
    "\n",
    "x_pos = [i for i, _ in enumerate(x)]\n",
    "\n",
    "plt.bar(x_pos, y, color='green')\n",
    "plt.xlabel(\"Position Titles\")\n",
    "plt.ylabel(\"Average Salary\")\n",
    "plt.title(\"Bar Chart of Average Salary for Each Position Title\")\n",
    "\n",
    "plt.xticks(x_pos, x)\n",
    "\n",
    "plt.show()"
   ]
  },
  {
   "cell_type": "code",
   "execution_count": 9,
   "metadata": {},
   "outputs": [
    {
     "data": {
      "text/html": [
       "<div>\n",
       "<style scoped>\n",
       "    .dataframe tbody tr th:only-of-type {\n",
       "        vertical-align: middle;\n",
       "    }\n",
       "\n",
       "    .dataframe tbody tr th {\n",
       "        vertical-align: top;\n",
       "    }\n",
       "\n",
       "    .dataframe thead th {\n",
       "        text-align: right;\n",
       "    }\n",
       "</style>\n",
       "<table border=\"1\" class=\"dataframe\">\n",
       "  <thead>\n",
       "    <tr style=\"text-align: right;\">\n",
       "      <th></th>\n",
       "      <th>emp_no</th>\n",
       "      <th>salary</th>\n",
       "      <th>title</th>\n",
       "      <th>first_name</th>\n",
       "      <th>last_name</th>\n",
       "      <th>sex</th>\n",
       "      <th>hire_date</th>\n",
       "    </tr>\n",
       "  </thead>\n",
       "  <tbody>\n",
       "    <tr>\n",
       "      <th>0</th>\n",
       "      <td>10005</td>\n",
       "      <td>78228</td>\n",
       "      <td>Staff</td>\n",
       "      <td>Kyoichi</td>\n",
       "      <td>Maliniak</td>\n",
       "      <td>M</td>\n",
       "      <td>1989-09-12</td>\n",
       "    </tr>\n",
       "    <tr>\n",
       "      <th>1</th>\n",
       "      <td>10010</td>\n",
       "      <td>72488</td>\n",
       "      <td>Engineer</td>\n",
       "      <td>Duangkaew</td>\n",
       "      <td>Piveteau</td>\n",
       "      <td>F</td>\n",
       "      <td>1989-08-24</td>\n",
       "    </tr>\n",
       "    <tr>\n",
       "      <th>2</th>\n",
       "      <td>10011</td>\n",
       "      <td>42365</td>\n",
       "      <td>Staff</td>\n",
       "      <td>Mary</td>\n",
       "      <td>Sluis</td>\n",
       "      <td>F</td>\n",
       "      <td>1990-01-22</td>\n",
       "    </tr>\n",
       "    <tr>\n",
       "      <th>3</th>\n",
       "      <td>10013</td>\n",
       "      <td>40000</td>\n",
       "      <td>Senior Staff</td>\n",
       "      <td>Eberhardt</td>\n",
       "      <td>Terkki</td>\n",
       "      <td>M</td>\n",
       "      <td>1985-10-20</td>\n",
       "    </tr>\n",
       "    <tr>\n",
       "      <th>4</th>\n",
       "      <td>10017</td>\n",
       "      <td>71380</td>\n",
       "      <td>Staff</td>\n",
       "      <td>Cristinel</td>\n",
       "      <td>Bouloucos</td>\n",
       "      <td>F</td>\n",
       "      <td>1993-08-03</td>\n",
       "    </tr>\n",
       "  </tbody>\n",
       "</table>\n",
       "</div>"
      ],
      "text/plain": [
       "   emp_no  salary         title first_name  last_name sex   hire_date\n",
       "0   10005   78228         Staff    Kyoichi   Maliniak   M  1989-09-12\n",
       "1   10010   72488      Engineer  Duangkaew   Piveteau   F  1989-08-24\n",
       "2   10011   42365         Staff       Mary      Sluis   F  1990-01-22\n",
       "3   10013   40000  Senior Staff  Eberhardt     Terkki   M  1985-10-20\n",
       "4   10017   71380         Staff  Cristinel  Bouloucos   F  1993-08-03"
      ]
     },
     "execution_count": 9,
     "metadata": {},
     "output_type": "execute_result"
    }
   ],
   "source": [
    "#This finds the employee ID given in the last part of the assignment and shows its info\n",
    "\n",
    "imported_df2.head()"
   ]
  },
  {
   "cell_type": "code",
   "execution_count": 10,
   "metadata": {},
   "outputs": [
    {
     "data": {
      "text/html": [
       "<div>\n",
       "<style scoped>\n",
       "    .dataframe tbody tr th:only-of-type {\n",
       "        vertical-align: middle;\n",
       "    }\n",
       "\n",
       "    .dataframe tbody tr th {\n",
       "        vertical-align: top;\n",
       "    }\n",
       "\n",
       "    .dataframe thead th {\n",
       "        text-align: right;\n",
       "    }\n",
       "</style>\n",
       "<table border=\"1\" class=\"dataframe\">\n",
       "  <thead>\n",
       "    <tr style=\"text-align: right;\">\n",
       "      <th></th>\n",
       "      <th>emp_no</th>\n",
       "      <th>salary</th>\n",
       "      <th>title</th>\n",
       "      <th>first_name</th>\n",
       "      <th>last_name</th>\n",
       "      <th>sex</th>\n",
       "      <th>hire_date</th>\n",
       "    </tr>\n",
       "  </thead>\n",
       "  <tbody>\n",
       "    <tr>\n",
       "      <th>37455</th>\n",
       "      <td>499942</td>\n",
       "      <td>40000</td>\n",
       "      <td>Technique Leader</td>\n",
       "      <td>April</td>\n",
       "      <td>Foolsday</td>\n",
       "      <td>F</td>\n",
       "      <td>1997-02-10</td>\n",
       "    </tr>\n",
       "  </tbody>\n",
       "</table>\n",
       "</div>"
      ],
      "text/plain": [
       "       emp_no  salary             title first_name last_name sex   hire_date\n",
       "37455  499942   40000  Technique Leader      April  Foolsday   F  1997-02-10"
      ]
     },
     "execution_count": 10,
     "metadata": {},
     "output_type": "execute_result"
    }
   ],
   "source": [
    "special_id = imported_df2.loc[imported_df2[\"emp_no\"] == 499942,:]\n",
    "special_id"
   ]
  },
  {
   "cell_type": "code",
   "execution_count": null,
   "metadata": {},
   "outputs": [],
   "source": []
  }
 ],
 "metadata": {
  "kernelspec": {
   "display_name": "PythonData",
   "language": "python",
   "name": "pythondata"
  },
  "language_info": {
   "codemirror_mode": {
    "name": "ipython",
    "version": 3
   },
   "file_extension": ".py",
   "mimetype": "text/x-python",
   "name": "python",
   "nbconvert_exporter": "python",
   "pygments_lexer": "ipython3",
   "version": "3.8.2"
  }
 },
 "nbformat": 4,
 "nbformat_minor": 4
}
